{
 "cells": [
  {
   "cell_type": "code",
   "execution_count": null,
   "metadata": {},
   "outputs": [],
   "source": [
    "# Create some random images to compare:\n",
    "import numpy as np\n",
    "images = [np.random.uniform(0, 255, (10, 10)) for _ in range(3)]"
   ]
  },
  {
   "cell_type": "code",
   "execution_count": null,
   "metadata": {},
   "outputs": [],
   "source": [
    "# Create a comparison widget and display it:\n",
    "from jupyter_image_diff.widget import Comparison\n",
    "comp = Comparison(images)\n",
    "comp.widget  # This will display the widget if run in a notebook"
   ]
  },
  {
   "cell_type": "code",
   "execution_count": null,
   "metadata": {},
   "outputs": [],
   "source": [
    "# You can programmatically go the the previous or next image. If you run this in a\n",
    "# different cell than the one above you will see that the widget is re-rendered:\n",
    "comp.next_image()"
   ]
  },
  {
   "cell_type": "code",
   "execution_count": null,
   "metadata": {},
   "outputs": [],
   "source": [
    "# Update the second image:\n",
    "new_image = np.random.uniform(0, 255, (10, 10))\n",
    "comp.update_image(1, new_image)  # 1 is the index of the second image"
   ]
  }
 ],
 "metadata": {
  "kernelspec": {
   "display_name": "vbeam_magnusk",
   "language": "python",
   "name": "python3"
  },
  "language_info": {
   "codemirror_mode": {
    "name": "ipython",
    "version": 3
   },
   "file_extension": ".py",
   "mimetype": "text/x-python",
   "name": "python",
   "nbconvert_exporter": "python",
   "pygments_lexer": "ipython3",
   "version": "3.8.15"
  },
  "orig_nbformat": 4,
  "vscode": {
   "interpreter": {
    "hash": "6c4250dae465aee4b6d69a64fe17fd966e6e25e24e55c1bfcae3c87f6496b0f5"
   }
  }
 },
 "nbformat": 4,
 "nbformat_minor": 2
}
